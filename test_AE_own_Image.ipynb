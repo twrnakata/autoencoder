{
 "cells": [
  {
   "cell_type": "code",
   "execution_count": null,
   "metadata": {},
   "outputs": [],
   "source": [
    "from matplotlib.pyplot import imshow\n",
    "import numpy as np\n",
    "import cv2\n",
    "from keras.preprocessing.image import img_to_array\n",
    "from tensorflow.keras.layers import Conv2D, MaxPooling2D, UpSampling2D\n",
    "from tensorflow.keras.models import Sequential\n",
    "import os\n",
    "\n",
    "SIZE=256\n"
   ]
  },
  {
   "cell_type": "code",
   "execution_count": null,
   "metadata": {},
   "outputs": [],
   "source": [
    "\n",
    "from tqdm import tqdm\n",
    "img_data=[]\n",
    "path1 = 'einstein_mona_lisa/einstein/'\n",
    "files=os.listdir(path1)\n",
    "for i in tqdm(files):\n",
    "    img=cv2.imread(path1+'/'+i,1)   #Change 0 to 1 for color images\n",
    "    img=cv2.resize(img,(SIZE, SIZE))\n",
    "    img_data.append(img_to_array(img))"
   ]
  },
  {
   "cell_type": "code",
   "execution_count": null,
   "metadata": {},
   "outputs": [],
   "source": [
    "\n",
    "img2_data=[]\n",
    "path2 = 'einstein_mona_lisa/monalisa/'\n",
    "files=os.listdir(path2)\n",
    "for i in tqdm(files):\n",
    "    img=cv2.imread(path2+'/'+i,1)  #Change 0 to 1 for color images\n",
    "    img=cv2.resize(img,(SIZE, SIZE))\n",
    "    img2_data.append(img_to_array(img))"
   ]
  },
  {
   "cell_type": "code",
   "execution_count": null,
   "metadata": {},
   "outputs": [],
   "source": [
    "\n",
    "img_array = np.reshape(img_data, (len(img_data), SIZE, SIZE, 3))\n",
    "img_array = img_array.astype('float32') / 255.\n",
    "\n",
    "img_array2 = np.reshape(img2_data, (len(img2_data), SIZE, SIZE, 3))\n",
    "img_array2 = img_array2.astype('float32') / 255.\n"
   ]
  },
  {
   "cell_type": "code",
   "execution_count": null,
   "metadata": {},
   "outputs": [],
   "source": [
    "\n",
    "\n",
    "#Original einstein image for prediction as monalisa\n",
    "img_data3=[]\n",
    "\n",
    "img3=cv2.imread('einstein_mona_lisa/einstein_original.jpg', 1)   #Change 0 to 1 for color images\n",
    "img3 = cv2.cvtColor(img3, cv2.COLOR_BGR2RGB)#Changing BGR to RGB to show images in true colors\n",
    "img3=cv2.resize(img3,(SIZE, SIZE))\n",
    "img_data3.append(img_to_array(img3))\n",
    "\n",
    "img_array3 = np.reshape(img_data3, (len(img_data3), SIZE, SIZE, 3))\n",
    "img_array3 = img_array3.astype('float32') / 255.\n"
   ]
  },
  {
   "cell_type": "code",
   "execution_count": null,
   "metadata": {},
   "outputs": [],
   "source": [
    "\n",
    "import time\n",
    "start=time.time()\n"
   ]
  },
  {
   "cell_type": "code",
   "execution_count": null,
   "metadata": {},
   "outputs": [],
   "source": [
    "\n",
    "\n",
    "model = Sequential()\n",
    "model.add(Conv2D(32, (3, 3), activation='relu', padding='same', input_shape=(SIZE, SIZE, 3)))\n",
    "model.add(MaxPooling2D((2, 2), padding='same'))\n",
    "model.add(Conv2D(8, (3, 3), activation='relu', padding='same'))\n",
    "model.add(MaxPooling2D((2, 2), padding='same'))\n",
    "model.add(Conv2D(8, (3, 3), activation='relu', padding='same'))\n",
    " \n",
    "\n",
    "model.add(MaxPooling2D((2, 2), padding='same'))\n",
    "     \n",
    "model.add(Conv2D(8, (3, 3), activation='relu', padding='same'))\n",
    "model.add(UpSampling2D((2, 2)))\n",
    "model.add(Conv2D(8, (3, 3), activation='relu', padding='same'))\n",
    "model.add(UpSampling2D((2, 2)))\n",
    "model.add(Conv2D(32, (3, 3), activation='relu', padding='same'))\n",
    "model.add(UpSampling2D((2, 2)))\n",
    "model.add(Conv2D(3, (3, 3), activation='relu', padding='same'))\n",
    "\n",
    "model.compile(optimizer='adam', loss='mean_squared_error', metrics=['accuracy'])\n",
    "model.summary()"
   ]
  },
  {
   "cell_type": "code",
   "execution_count": null,
   "metadata": {},
   "outputs": [],
   "source": [
    "\n",
    "import tensorflow as tf\n",
    "callbacks = [tf.keras.callbacks.TensorBoard(log_dir='einstein_logs')]\n",
    "\n",
    "\n",
    "model.fit(img_array, img_array2,\n",
    "        epochs=100000,\n",
    "        shuffle=True,\n",
    "        callbacks=callbacks)\n"
   ]
  },
  {
   "cell_type": "code",
   "execution_count": null,
   "metadata": {},
   "outputs": [],
   "source": [
    "\n",
    "finish=time.time()\n",
    "print('total_time = ', finish-start)"
   ]
  },
  {
   "cell_type": "code",
   "execution_count": null,
   "metadata": {},
   "outputs": [],
   "source": [
    "\n",
    "print(\"Output\")\n",
    "pred = model.predict(img_array3)\n",
    "\n",
    "\n",
    "\n",
    "imshow(pred[0].reshape(SIZE,SIZE,3))"
   ]
  }
 ],
 "metadata": {
  "kernelspec": {
   "display_name": "Python 3.9.5 64-bit",
   "language": "python",
   "name": "python3"
  },
  "language_info": {
   "name": "python",
   "version": "3.9.5"
  },
  "orig_nbformat": 4,
  "vscode": {
   "interpreter": {
    "hash": "60fb7ef1192aa6fe512e5c59a07a31c96e6aeffb2298c33dcc1a15b626ec40ca"
   }
  }
 },
 "nbformat": 4,
 "nbformat_minor": 2
}
