{
 "cells": [
  {
   "cell_type": "code",
   "execution_count": 14,
   "metadata": {},
   "outputs": [],
   "source": [
    "import tensorflow as tf\n",
    "import numpy as np\n",
    "from tensorflow.keras import Model, Input, layers, losses, optimizers, datasets"
   ]
  },
  {
   "cell_type": "code",
   "execution_count": 15,
   "metadata": {},
   "outputs": [],
   "source": [
    "(X, Y), (Xtest, Ytest) = datasets.mnist.load_data()"
   ]
  },
  {
   "cell_type": "code",
   "execution_count": 16,
   "metadata": {},
   "outputs": [
    {
     "data": {
      "text/plain": [
       "(60000, 28, 28)"
      ]
     },
     "execution_count": 16,
     "metadata": {},
     "output_type": "execute_result"
    }
   ],
   "source": [
    "X.shape"
   ]
  },
  {
   "cell_type": "code",
   "execution_count": 17,
   "metadata": {},
   "outputs": [],
   "source": [
    "from matplotlib import pyplot as plt"
   ]
  },
  {
   "cell_type": "code",
   "execution_count": 18,
   "metadata": {},
   "outputs": [
    {
     "data": {
      "image/png": "[encoded data removed]",
      "text/plain": [
       "<Figure size 432x288 with 1 Axes>"
      ]
     },
     "metadata": {
      "needs_background": "light"
     },
     "output_type": "display_data"
    }
   ],
   "source": [
    "plt.imshow(X[0])\n",
    "plt.show()"
   ]
  },
  {
   "cell_type": "code",
   "execution_count": 19,
   "metadata": {},
   "outputs": [],
   "source": [
    "# ถ้าต้องการแปลงรูปให้เป็น vector หรือแปลงขนาดรูปให้เหลือ 1 มิติ เพื่อให้เป็น dense ที่จะเข้าสู่ neural network ได้\n",
    "X = X.reshape((len(X), -1))\n",
    "X = X.astype(np.float32) / 255.0\n",
    "\n",
    "Xtest = Xtest.reshape((len(Xtest), -1)).astype(np.float32) / 255.0\n"
   ]
  },
  {
   "cell_type": "code",
   "execution_count": 20,
   "metadata": {},
   "outputs": [
    {
     "data": {
      "text/plain": [
       "(60000, 784)"
      ]
     },
     "execution_count": 20,
     "metadata": {},
     "output_type": "execute_result"
    }
   ],
   "source": [
    "X.shape"
   ]
  },
  {
   "cell_type": "code",
   "execution_count": 21,
   "metadata": {},
   "outputs": [],
   "source": [
    "# วัดประสิทธิภาพของ feature ขนาด 784\n",
    "from sklearn.svm import SVC\n",
    "from sklearn.metrics import accuracy_score, confusion_matrix"
   ]
  },
  {
   "cell_type": "code",
   "execution_count": 22,
   "metadata": {},
   "outputs": [],
   "source": [
    "clf = SVC()\n",
    "clf.fit(X, Y)\n",
    "Z = clf.predict(Xtest)"
   ]
  },
  {
   "cell_type": "code",
   "execution_count": 23,
   "metadata": {},
   "outputs": [
    {
     "name": "stdout",
     "output_type": "stream",
     "text": [
      "accuracy rate = 0.9792\n",
      "confusion matrix:\n",
      "[[ 973    0    1    0    0    2    1    1    2    0]\n",
      " [   0 1126    3    1    0    1    1    1    2    0]\n",
      " [   6    1 1006    2    1    0    2    7    6    1]\n",
      " [   0    0    2  995    0    2    0    5    5    1]\n",
      " [   0    0    5    0  961    0    3    0    2   11]\n",
      " [   2    0    0    9    0  871    4    1    4    1]\n",
      " [   6    2    0    0    2    3  944    0    1    0]\n",
      " [   0    6   11    1    1    0    0  996    2   11]\n",
      " [   3    0    2    6    3    2    2    3  950    3]\n",
      " [   3    4    1    7   10    2    1    7    4  970]]\n"
     ]
    }
   ],
   "source": [
    "print('accuracy rate =', accuracy_score(Ytest, Z))\n",
    "print('confusion matrix:')\n",
    "print(confusion_matrix(Ytest, Z))"
   ]
  },
  {
   "cell_type": "code",
   "execution_count": 36,
   "metadata": {},
   "outputs": [],
   "source": [
    "# ทำ autoencoder โดยขาเข้าและขาออกจะต้องเป็นของสิ่งเดียวกัน มิติต้องเท่ากัน\n",
    "# 784-392-196-98-196-392-784\n",
    "inputs = Input(shape=X.shape[1]) # 784\n",
    "\n",
    "en1 = layers.Dense(X.shape[1] // 2, activation='relu') # 392\n",
    "en2 = layers.Dense(X.shape[1] // 4, activation='relu') # 192\n",
    "\n",
    "en3 = layers.Dense(X.shape[1] // 8, activation='relu') # 98\n",
    "\n",
    "de1 = layers.Dense(X.shape[1] // 4, activation='relu') # 192\n",
    "de2 = layers.Dense(392, activation='relu') # 392\n",
    "de3 = layers.Dense(X.shape[1], activation='relu') # 784\n"
   ]
  },
  {
   "cell_type": "code",
   "execution_count": 37,
   "metadata": {},
   "outputs": [],
   "source": [
    "outputs = de3(de2(de1(en3(en2(en1(inputs))))))\n",
    "\n",
    "model = Model(inputs, outputs)"
   ]
  },
  {
   "cell_type": "code",
   "execution_count": 38,
   "metadata": {},
   "outputs": [],
   "source": [
    "model.compile(optimizer=optimizers.SGD(learning_rate=0.1),\n",
    "              loss=losses.MeanAbsoluteError())"
   ]
  },
  {
   "cell_type": "code",
   "execution_count": 39,
   "metadata": {},
   "outputs": [
    {
     "name": "stdout",
     "output_type": "stream",
     "text": [
      "Model: \"model_2\"\n",
      "_________________________________________________________________\n",
      " Layer (type)                Output Shape              Param #   \n",
      "=================================================================\n",
      " input_5 (InputLayer)        [(None, 784)]             0         \n",
      "                                                                 \n",
      " dense_24 (Dense)            (None, 392)               307720    \n",
      "                                                                 \n",
      " dense_25 (Dense)            (None, 196)               77028     \n",
      "                                                                 \n",
      " dense_26 (Dense)            (None, 98)                19306     \n",
      "                                                                 \n",
      " dense_27 (Dense)            (None, 196)               19404     \n",
      "                                                                 \n",
      " dense_28 (Dense)            (None, 392)               77224     \n",
      "                                                                 \n",
      " dense_29 (Dense)            (None, 784)               308112    \n",
      "                                                                 \n",
      "=================================================================\n",
      "Total params: 808,794\n",
      "Trainable params: 808,794\n",
      "Non-trainable params: 0\n",
      "_________________________________________________________________\n"
     ]
    }
   ],
   "source": [
    "model.summary()"
   ]
  },
  {
   "cell_type": "code",
   "execution_count": 40,
   "metadata": {},
   "outputs": [
    {
     "name": "stdout",
     "output_type": "stream",
     "text": [
      "Epoch 1/200\n",
      "1875/1875 [==============================] - 9s 4ms/step - loss: 0.1302\n",
      "Epoch 2/200\n",
      "1875/1875 [==============================] - 8s 4ms/step - loss: 0.1278\n",
      "Epoch 3/200\n",
      "1875/1875 [==============================] - 8s 4ms/step - loss: 0.1221\n",
      "Epoch 4/200\n",
      "1875/1875 [==============================] - 8s 4ms/step - loss: 0.1130\n",
      "Epoch 5/200\n",
      "1875/1875 [==============================] - 8s 4ms/step - loss: 0.1025\n",
      "Epoch 6/200\n",
      "1875/1875 [==============================] - 8s 4ms/step - loss: 0.0942\n",
      "Epoch 7/200\n",
      "1875/1875 [==============================] - 8s 4ms/step - loss: 0.0876\n",
      "Epoch 8/200\n",
      "1875/1875 [==============================] - 8s 4ms/step - loss: 0.0833\n",
      "Epoch 9/200\n",
      "1875/1875 [==============================] - 8s 4ms/step - loss: 0.0801\n",
      "Epoch 10/200\n",
      "1875/1875 [==============================] - 8s 4ms/step - loss: 0.0767\n",
      "Epoch 11/200\n",
      "1875/1875 [==============================] - 8s 4ms/step - loss: 0.0739\n",
      "Epoch 12/200\n",
      "1875/1875 [==============================] - 8s 4ms/step - loss: 0.0717\n",
      "Epoch 13/200\n",
      "1875/1875 [==============================] - 8s 4ms/step - loss: 0.0700\n",
      "Epoch 14/200\n",
      "1875/1875 [==============================] - 8s 4ms/step - loss: 0.0685\n",
      "Epoch 15/200\n",
      "1875/1875 [==============================] - 8s 4ms/step - loss: 0.0672\n",
      "Epoch 16/200\n",
      "1875/1875 [==============================] - 8s 4ms/step - loss: 0.0660\n",
      "Epoch 17/200\n",
      "1875/1875 [==============================] - 7s 4ms/step - loss: 0.0651\n",
      "Epoch 18/200\n",
      "1875/1875 [==============================] - 7s 4ms/step - loss: 0.0643\n",
      "Epoch 19/200\n",
      "1875/1875 [==============================] - 7s 4ms/step - loss: 0.0632\n",
      "Epoch 20/200\n",
      "1875/1875 [==============================] - 7s 3ms/step - loss: 0.0621\n",
      "Epoch 21/200\n",
      "1875/1875 [==============================] - 7s 4ms/step - loss: 0.0613\n",
      "Epoch 22/200\n",
      "1875/1875 [==============================] - 8s 4ms/step - loss: 0.0608\n",
      "Epoch 23/200\n",
      "1875/1875 [==============================] - 8s 4ms/step - loss: 0.0602\n",
      "Epoch 24/200\n",
      "1875/1875 [==============================] - 8s 4ms/step - loss: 0.0596\n",
      "Epoch 25/200\n",
      "1875/1875 [==============================] - 8s 4ms/step - loss: 0.0591\n",
      "Epoch 26/200\n",
      "1875/1875 [==============================] - 8s 4ms/step - loss: 0.0586\n",
      "Epoch 27/200\n",
      "1875/1875 [==============================] - 8s 4ms/step - loss: 0.0580\n",
      "Epoch 28/200\n",
      "1875/1875 [==============================] - 7s 4ms/step - loss: 0.0576\n",
      "Epoch 29/200\n",
      "1875/1875 [==============================] - 7s 4ms/step - loss: 0.0572\n",
      "Epoch 30/200\n",
      "1875/1875 [==============================] - 7s 4ms/step - loss: 0.0567\n",
      "Epoch 31/200\n",
      "1875/1875 [==============================] - 8s 4ms/step - loss: 0.0562\n",
      "Epoch 32/200\n",
      "1875/1875 [==============================] - 8s 4ms/step - loss: 0.0559\n",
      "Epoch 33/200\n",
      "1875/1875 [==============================] - 7s 4ms/step - loss: 0.0555\n",
      "Epoch 34/200\n",
      "1875/1875 [==============================] - 8s 4ms/step - loss: 0.0552\n",
      "Epoch 35/200\n",
      "1875/1875 [==============================] - 7s 4ms/step - loss: 0.0549\n",
      "Epoch 36/200\n",
      "1875/1875 [==============================] - 7s 4ms/step - loss: 0.0547\n",
      "Epoch 37/200\n",
      "1875/1875 [==============================] - 7s 4ms/step - loss: 0.0544\n",
      "Epoch 38/200\n",
      "1875/1875 [==============================] - 7s 4ms/step - loss: 0.0541\n",
      "Epoch 39/200\n",
      "1875/1875 [==============================] - 8s 4ms/step - loss: 0.0539\n",
      "Epoch 40/200\n",
      "1875/1875 [==============================] - 7s 4ms/step - loss: 0.0537\n",
      "Epoch 41/200\n",
      "1875/1875 [==============================] - 8s 4ms/step - loss: 0.0535\n",
      "Epoch 42/200\n",
      "1875/1875 [==============================] - 8s 4ms/step - loss: 0.0533\n",
      "Epoch 43/200\n",
      "1875/1875 [==============================] - 8s 4ms/step - loss: 0.0530\n",
      "Epoch 44/200\n",
      "1875/1875 [==============================] - 8s 4ms/step - loss: 0.0526\n",
      "Epoch 45/200\n",
      "1875/1875 [==============================] - 8s 4ms/step - loss: 0.0523\n",
      "Epoch 46/200\n",
      "1875/1875 [==============================] - 8s 4ms/step - loss: 0.0521\n",
      "Epoch 47/200\n",
      "1875/1875 [==============================] - 8s 4ms/step - loss: 0.0520\n",
      "Epoch 48/200\n",
      "1875/1875 [==============================] - 8s 4ms/step - loss: 0.0518\n",
      "Epoch 49/200\n",
      "1875/1875 [==============================] - 8s 4ms/step - loss: 0.0516\n",
      "Epoch 50/200\n",
      "1875/1875 [==============================] - 8s 4ms/step - loss: 0.0515\n",
      "Epoch 51/200\n",
      "1875/1875 [==============================] - 8s 4ms/step - loss: 0.0513\n",
      "Epoch 52/200\n",
      "1875/1875 [==============================] - 8s 4ms/step - loss: 0.0512\n",
      "Epoch 53/200\n",
      "1875/1875 [==============================] - 8s 4ms/step - loss: 0.0510\n",
      "Epoch 54/200\n",
      "1875/1875 [==============================] - 8s 4ms/step - loss: 0.0508\n",
      "Epoch 55/200\n",
      "1875/1875 [==============================] - 8s 4ms/step - loss: 0.0507\n",
      "Epoch 56/200\n",
      "1875/1875 [==============================] - 8s 4ms/step - loss: 0.0506\n",
      "Epoch 57/200\n",
      "1875/1875 [==============================] - 8s 4ms/step - loss: 0.0504\n",
      "Epoch 58/200\n",
      "1875/1875 [==============================] - 8s 4ms/step - loss: 0.0503\n",
      "Epoch 59/200\n",
      "1875/1875 [==============================] - 8s 4ms/step - loss: 0.0502\n",
      "Epoch 60/200\n",
      "1875/1875 [==============================] - 8s 4ms/step - loss: 0.0501\n",
      "Epoch 61/200\n",
      "1875/1875 [==============================] - 8s 4ms/step - loss: 0.0500\n",
      "Epoch 62/200\n",
      "1875/1875 [==============================] - 8s 4ms/step - loss: 0.0499\n",
      "Epoch 63/200\n",
      "1875/1875 [==============================] - 8s 4ms/step - loss: 0.0499\n",
      "Epoch 64/200\n",
      "1875/1875 [==============================] - 8s 4ms/step - loss: 0.0498\n",
      "Epoch 65/200\n",
      "1875/1875 [==============================] - 8s 4ms/step - loss: 0.0497\n",
      "Epoch 66/200\n",
      "1875/1875 [==============================] - 8s 4ms/step - loss: 0.0496\n",
      "Epoch 67/200\n",
      "1875/1875 [==============================] - 8s 4ms/step - loss: 0.0495\n",
      "Epoch 68/200\n",
      "1875/1875 [==============================] - 8s 4ms/step - loss: 0.0494\n",
      "Epoch 69/200\n",
      "1875/1875 [==============================] - 8s 4ms/step - loss: 0.0493\n",
      "Epoch 70/200\n",
      "1875/1875 [==============================] - 8s 4ms/step - loss: 0.0493\n",
      "Epoch 71/200\n",
      "1875/1875 [==============================] - 8s 4ms/step - loss: 0.0492\n",
      "Epoch 72/200\n",
      "1875/1875 [==============================] - 8s 4ms/step - loss: 0.0491\n",
      "Epoch 73/200\n",
      "1875/1875 [==============================] - 8s 4ms/step - loss: 0.0490\n",
      "Epoch 74/200\n",
      "1875/1875 [==============================] - 8s 4ms/step - loss: 0.0487\n",
      "Epoch 75/200\n",
      "1875/1875 [==============================] - 8s 4ms/step - loss: 0.0485\n",
      "Epoch 76/200\n",
      "1875/1875 [==============================] - 8s 4ms/step - loss: 0.0484\n",
      "Epoch 77/200\n",
      "1875/1875 [==============================] - 8s 4ms/step - loss: 0.0484\n",
      "Epoch 78/200\n",
      "1875/1875 [==============================] - 8s 4ms/step - loss: 0.0483\n",
      "Epoch 79/200\n",
      "1875/1875 [==============================] - 8s 4ms/step - loss: 0.0482\n",
      "Epoch 80/200\n",
      "1875/1875 [==============================] - 8s 4ms/step - loss: 0.0481\n",
      "Epoch 81/200\n",
      "1875/1875 [==============================] - 8s 4ms/step - loss: 0.0480\n",
      "Epoch 82/200\n",
      "1875/1875 [==============================] - 7s 4ms/step - loss: 0.0479\n",
      "Epoch 83/200\n",
      "1875/1875 [==============================] - 8s 4ms/step - loss: 0.0478\n",
      "Epoch 84/200\n",
      "1875/1875 [==============================] - 9s 5ms/step - loss: 0.0477\n",
      "Epoch 85/200\n",
      "1875/1875 [==============================] - 8s 4ms/step - loss: 0.0476\n",
      "Epoch 86/200\n",
      "1875/1875 [==============================] - 8s 4ms/step - loss: 0.0476\n",
      "Epoch 87/200\n",
      "1875/1875 [==============================] - 8s 4ms/step - loss: 0.0475\n",
      "Epoch 88/200\n",
      "1875/1875 [==============================] - 8s 4ms/step - loss: 0.0475\n",
      "Epoch 89/200\n",
      "1875/1875 [==============================] - 8s 4ms/step - loss: 0.0474\n",
      "Epoch 90/200\n",
      "1875/1875 [==============================] - 8s 4ms/step - loss: 0.0473\n",
      "Epoch 91/200\n",
      "1875/1875 [==============================] - 8s 4ms/step - loss: 0.0473\n",
      "Epoch 92/200\n",
      "1875/1875 [==============================] - 8s 4ms/step - loss: 0.0472\n",
      "Epoch 93/200\n",
      "1875/1875 [==============================] - 8s 4ms/step - loss: 0.0472\n",
      "Epoch 94/200\n",
      "1875/1875 [==============================] - 8s 4ms/step - loss: 0.0471\n",
      "Epoch 95/200\n",
      "1875/1875 [==============================] - 7s 4ms/step - loss: 0.0471\n",
      "Epoch 96/200\n",
      "1875/1875 [==============================] - 8s 4ms/step - loss: 0.0470\n",
      "Epoch 97/200\n",
      "1875/1875 [==============================] - 8s 4ms/step - loss: 0.0470\n",
      "Epoch 98/200\n",
      "1875/1875 [==============================] - 7s 4ms/step - loss: 0.0469\n",
      "Epoch 99/200\n",
      "1875/1875 [==============================] - 7s 4ms/step - loss: 0.0469\n",
      "Epoch 100/200\n",
      "1875/1875 [==============================] - 8s 4ms/step - loss: 0.0469\n",
      "Epoch 101/200\n",
      "1875/1875 [==============================] - 8s 4ms/step - loss: 0.0468\n",
      "Epoch 102/200\n",
      "1875/1875 [==============================] - 8s 4ms/step - loss: 0.0468\n",
      "Epoch 103/200\n",
      "1875/1875 [==============================] - 8s 4ms/step - loss: 0.0467\n",
      "Epoch 104/200\n",
      "1875/1875 [==============================] - 8s 4ms/step - loss: 0.0467\n",
      "Epoch 105/200\n",
      "1875/1875 [==============================] - 8s 4ms/step - loss: 0.0466\n",
      "Epoch 106/200\n",
      "1875/1875 [==============================] - 8s 4ms/step - loss: 0.0466\n",
      "Epoch 107/200\n",
      "1875/1875 [==============================] - 8s 4ms/step - loss: 0.0466\n",
      "Epoch 108/200\n",
      "1875/1875 [==============================] - 8s 4ms/step - loss: 0.0465\n",
      "Epoch 109/200\n",
      "1875/1875 [==============================] - 8s 4ms/step - loss: 0.0465\n",
      "Epoch 110/200\n",
      "1875/1875 [==============================] - 8s 4ms/step - loss: 0.0464\n",
      "Epoch 111/200\n",
      "1875/1875 [==============================] - 8s 4ms/step - loss: 0.0464\n",
      "Epoch 112/200\n",
      "1875/1875 [==============================] - 8s 4ms/step - loss: 0.0464\n",
      "Epoch 113/200\n",
      "1875/1875 [==============================] - 8s 4ms/step - loss: 0.0463\n",
      "Epoch 114/200\n",
      "1875/1875 [==============================] - 8s 4ms/step - loss: 0.0463\n",
      "Epoch 115/200\n",
      "1875/1875 [==============================] - 8s 4ms/step - loss: 0.0462\n",
      "Epoch 116/200\n",
      "1875/1875 [==============================] - 8s 4ms/step - loss: 0.0462\n",
      "Epoch 117/200\n",
      "1875/1875 [==============================] - 8s 4ms/step - loss: 0.0462\n",
      "Epoch 118/200\n",
      "1875/1875 [==============================] - 8s 4ms/step - loss: 0.0461\n",
      "Epoch 119/200\n",
      "1875/1875 [==============================] - 8s 4ms/step - loss: 0.0460\n",
      "Epoch 120/200\n",
      "1875/1875 [==============================] - 8s 4ms/step - loss: 0.0459\n",
      "Epoch 121/200\n",
      "1875/1875 [==============================] - 8s 4ms/step - loss: 0.0459\n",
      "Epoch 122/200\n",
      "1875/1875 [==============================] - 7s 4ms/step - loss: 0.0458\n",
      "Epoch 123/200\n",
      "1875/1875 [==============================] - 7s 4ms/step - loss: 0.0458\n",
      "Epoch 124/200\n",
      "1875/1875 [==============================] - 7s 4ms/step - loss: 0.0457\n",
      "Epoch 125/200\n",
      "1875/1875 [==============================] - 7s 4ms/step - loss: 0.0457\n",
      "Epoch 126/200\n",
      "1875/1875 [==============================] - 7s 4ms/step - loss: 0.0457\n",
      "Epoch 127/200\n",
      "1875/1875 [==============================] - 7s 4ms/step - loss: 0.0456\n",
      "Epoch 128/200\n",
      "1875/1875 [==============================] - 7s 4ms/step - loss: 0.0456\n",
      "Epoch 129/200\n",
      "1875/1875 [==============================] - 8s 4ms/step - loss: 0.0456\n",
      "Epoch 130/200\n",
      "1875/1875 [==============================] - 8s 4ms/step - loss: 0.0455\n",
      "Epoch 131/200\n",
      "1875/1875 [==============================] - 7s 4ms/step - loss: 0.0455\n",
      "Epoch 132/200\n",
      "1875/1875 [==============================] - 7s 4ms/step - loss: 0.0455\n",
      "Epoch 133/200\n",
      "1875/1875 [==============================] - 7s 4ms/step - loss: 0.0454\n",
      "Epoch 134/200\n",
      "1875/1875 [==============================] - 7s 4ms/step - loss: 0.0454\n",
      "Epoch 135/200\n",
      "1875/1875 [==============================] - 7s 4ms/step - loss: 0.0454\n",
      "Epoch 136/200\n",
      "1875/1875 [==============================] - 8s 4ms/step - loss: 0.0454\n",
      "Epoch 137/200\n",
      "1875/1875 [==============================] - 8s 4ms/step - loss: 0.0453\n",
      "Epoch 138/200\n",
      "1875/1875 [==============================] - 8s 4ms/step - loss: 0.0453\n",
      "Epoch 139/200\n",
      "1875/1875 [==============================] - 7s 4ms/step - loss: 0.0453\n",
      "Epoch 140/200\n",
      "1875/1875 [==============================] - 7s 4ms/step - loss: 0.0452\n",
      "Epoch 141/200\n",
      "1875/1875 [==============================] - 7s 4ms/step - loss: 0.0451\n",
      "Epoch 142/200\n",
      "1875/1875 [==============================] - 8s 4ms/step - loss: 0.0450\n",
      "Epoch 143/200\n",
      "1875/1875 [==============================] - 7s 4ms/step - loss: 0.0450\n",
      "Epoch 144/200\n",
      "1875/1875 [==============================] - 8s 4ms/step - loss: 0.0449\n",
      "Epoch 145/200\n",
      "1875/1875 [==============================] - 8s 4ms/step - loss: 0.0449\n",
      "Epoch 146/200\n",
      "1875/1875 [==============================] - 8s 4ms/step - loss: 0.0449\n",
      "Epoch 147/200\n",
      "1875/1875 [==============================] - 8s 4ms/step - loss: 0.0448\n",
      "Epoch 148/200\n",
      "1875/1875 [==============================] - 8s 4ms/step - loss: 0.0448\n",
      "Epoch 149/200\n",
      "1875/1875 [==============================] - 8s 4ms/step - loss: 0.0448\n",
      "Epoch 150/200\n",
      "1875/1875 [==============================] - 8s 4ms/step - loss: 0.0448\n",
      "Epoch 151/200\n",
      "1875/1875 [==============================] - 8s 4ms/step - loss: 0.0447\n",
      "Epoch 152/200\n",
      "1875/1875 [==============================] - 8s 4ms/step - loss: 0.0447\n",
      "Epoch 153/200\n",
      "1875/1875 [==============================] - 7s 4ms/step - loss: 0.0447\n",
      "Epoch 154/200\n",
      "1875/1875 [==============================] - 8s 4ms/step - loss: 0.0446\n",
      "Epoch 155/200\n",
      "1875/1875 [==============================] - 8s 4ms/step - loss: 0.0446\n",
      "Epoch 156/200\n",
      "1875/1875 [==============================] - 8s 4ms/step - loss: 0.0446\n",
      "Epoch 157/200\n",
      "1875/1875 [==============================] - 8s 4ms/step - loss: 0.0446\n",
      "Epoch 158/200\n",
      "1875/1875 [==============================] - 8s 4ms/step - loss: 0.0446\n",
      "Epoch 159/200\n",
      "1875/1875 [==============================] - 8s 4ms/step - loss: 0.0445\n",
      "Epoch 160/200\n",
      "1875/1875 [==============================] - 8s 4ms/step - loss: 0.0445\n",
      "Epoch 161/200\n",
      "1875/1875 [==============================] - 8s 4ms/step - loss: 0.0445\n",
      "Epoch 162/200\n",
      "1875/1875 [==============================] - 8s 4ms/step - loss: 0.0443\n",
      "Epoch 163/200\n",
      "1875/1875 [==============================] - 8s 4ms/step - loss: 0.0442\n",
      "Epoch 164/200\n",
      "1875/1875 [==============================] - 7s 4ms/step - loss: 0.0442\n",
      "Epoch 165/200\n",
      "1875/1875 [==============================] - 8s 4ms/step - loss: 0.0441\n",
      "Epoch 166/200\n",
      "1875/1875 [==============================] - 8s 4ms/step - loss: 0.0441\n",
      "Epoch 167/200\n",
      "1875/1875 [==============================] - 8s 4ms/step - loss: 0.0441\n",
      "Epoch 168/200\n",
      "1875/1875 [==============================] - 8s 4ms/step - loss: 0.0440\n",
      "Epoch 169/200\n",
      "1875/1875 [==============================] - 8s 4ms/step - loss: 0.0440\n",
      "Epoch 170/200\n",
      "1875/1875 [==============================] - 8s 4ms/step - loss: 0.0440\n",
      "Epoch 171/200\n",
      "1875/1875 [==============================] - 8s 4ms/step - loss: 0.0440\n",
      "Epoch 172/200\n",
      "1875/1875 [==============================] - 8s 4ms/step - loss: 0.0440\n",
      "Epoch 173/200\n",
      "1875/1875 [==============================] - 8s 4ms/step - loss: 0.0439\n",
      "Epoch 174/200\n",
      "1875/1875 [==============================] - 8s 4ms/step - loss: 0.0439\n",
      "Epoch 175/200\n",
      "1875/1875 [==============================] - 8s 4ms/step - loss: 0.0439\n",
      "Epoch 176/200\n",
      "1875/1875 [==============================] - 8s 4ms/step - loss: 0.0439\n",
      "Epoch 177/200\n",
      "1875/1875 [==============================] - 8s 4ms/step - loss: 0.0439\n",
      "Epoch 178/200\n",
      "1875/1875 [==============================] - 8s 4ms/step - loss: 0.0438\n",
      "Epoch 179/200\n",
      "1875/1875 [==============================] - 8s 4ms/step - loss: 0.0438\n",
      "Epoch 180/200\n",
      "1875/1875 [==============================] - 8s 4ms/step - loss: 0.0438\n",
      "Epoch 181/200\n",
      "1875/1875 [==============================] - 8s 4ms/step - loss: 0.0438\n",
      "Epoch 182/200\n",
      "1875/1875 [==============================] - 8s 4ms/step - loss: 0.0438\n",
      "Epoch 183/200\n",
      "1875/1875 [==============================] - 8s 4ms/step - loss: 0.0437\n",
      "Epoch 184/200\n",
      "1875/1875 [==============================] - 8s 4ms/step - loss: 0.0437\n",
      "Epoch 185/200\n",
      "1875/1875 [==============================] - 8s 4ms/step - loss: 0.0437\n",
      "Epoch 186/200\n",
      "1875/1875 [==============================] - 8s 4ms/step - loss: 0.0437\n",
      "Epoch 187/200\n",
      "1875/1875 [==============================] - 8s 4ms/step - loss: 0.0437\n",
      "Epoch 188/200\n",
      "1875/1875 [==============================] - 8s 4ms/step - loss: 0.0436\n",
      "Epoch 189/200\n",
      "1875/1875 [==============================] - 8s 4ms/step - loss: 0.0436\n",
      "Epoch 190/200\n",
      "1875/1875 [==============================] - 8s 4ms/step - loss: 0.0436\n",
      "Epoch 191/200\n",
      "1875/1875 [==============================] - 8s 4ms/step - loss: 0.0436\n",
      "Epoch 192/200\n",
      "1875/1875 [==============================] - 8s 4ms/step - loss: 0.0436\n",
      "Epoch 193/200\n",
      "1875/1875 [==============================] - 8s 4ms/step - loss: 0.0436\n",
      "Epoch 194/200\n",
      "1875/1875 [==============================] - 8s 4ms/step - loss: 0.0435\n",
      "Epoch 195/200\n",
      "1875/1875 [==============================] - 8s 4ms/step - loss: 0.0435\n",
      "Epoch 196/200\n",
      "1875/1875 [==============================] - 8s 4ms/step - loss: 0.0435\n",
      "Epoch 197/200\n",
      "1875/1875 [==============================] - 7s 4ms/step - loss: 0.0435\n",
      "Epoch 198/200\n",
      "1875/1875 [==============================] - 8s 4ms/step - loss: 0.0435\n",
      "Epoch 199/200\n",
      "1875/1875 [==============================] - 7s 4ms/step - loss: 0.0434\n",
      "Epoch 200/200\n",
      "1875/1875 [==============================] - 8s 4ms/step - loss: 0.0434\n"
     ]
    },
    {
     "data": {
      "text/plain": [
       "<keras.callbacks.History at 0x1c48ac94160>"
      ]
     },
     "execution_count": 40,
     "metadata": {},
     "output_type": "execute_result"
    }
   ],
   "source": [
    "model.fit(X, X, epochs=200)"
   ]
  },
  {
   "cell_type": "code",
   "execution_count": 41,
   "metadata": {},
   "outputs": [
    {
     "name": "stdout",
     "output_type": "stream",
     "text": [
      "(60000, 98)\n"
     ]
    }
   ],
   "source": [
    "Xencoded = en3(en2(en1(X))).numpy()\n",
    "print(Xencoded.shape)"
   ]
  },
  {
   "cell_type": "code",
   "execution_count": 42,
   "metadata": {},
   "outputs": [],
   "source": [
    "# ทดสอบว่าตัวที่ถูก encode จะสามารถทดแทน feature ตัวยาวได้หรือไม่\n",
    "clf1 = SVC()\n",
    "clf1.fit(Xencoded, Y)\n",
    "\n",
    "# สร้าง Xtest ที่เหมือนกับ X เพื่อเอามา predict\n",
    "Xtestencoded = en3(en2(en1(Xtest))).numpy()"
   ]
  },
  {
   "cell_type": "code",
   "execution_count": 43,
   "metadata": {},
   "outputs": [
    {
     "name": "stdout",
     "output_type": "stream",
     "text": [
      "accuracy rate= 0.9624\n",
      "confusion matrix:\n",
      "[[ 968    0    1    1    0    4    3    1    2    0]\n",
      " [   0 1124    3    1    0    1    3    1    2    0]\n",
      " [   8    3  986    8    8    1    6   10    2    0]\n",
      " [   1    0    9  970    1   10    1    6    9    3]\n",
      " [   1    0    3    0  949    0    9    1    2   17]\n",
      " [   5    1    3   20    2  844    6    2    4    5]\n",
      " [  10    2    2    1    4    6  930    0    3    0]\n",
      " [   1   11   19    3    4    0    0  974    3   13]\n",
      " [   3    0    4   12    6    7    7    5  928    2]\n",
      " [   4    4    3   11   17    3    0    8    8  951]]\n"
     ]
    }
   ],
   "source": [
    "Z1 = clf1.predict(Xtestencoded)\n",
    "print('accuracy rate=', accuracy_score(Ytest, Z1))\n",
    "print('confusion matrix:')\n",
    "print(confusion_matrix(Ytest, Z1))\n",
    "# รันเร็วขึ้น ความแม่นยำทรงๆ เดิม"
   ]
  },
  {
   "cell_type": "code",
   "execution_count": null,
   "metadata": {},
   "outputs": [],
   "source": []
  }
 ],
 "metadata": {
  "kernelspec": {
   "display_name": "Python 3.9.12 ('gpu-gan')",
   "language": "python",
   "name": "python3"
  },
  "language_info": {
   "codemirror_mode": {
    "name": "ipython",
    "version": 3
   },
   "file_extension": ".py",
   "mimetype": "text/x-python",
   "name": "python",
   "nbconvert_exporter": "python",
   "pygments_lexer": "ipython3",
   "version": "3.9.12"
  },
  "orig_nbformat": 4,
  "vscode": {
   "interpreter": {
    "hash": "b06aa430c4fb633b1dd0a1a893f1bc87d8421f34b3777c6b5eb422d863f7be59"
   }
  }
 },
 "nbformat": 4,
 "nbformat_minor": 2
}
