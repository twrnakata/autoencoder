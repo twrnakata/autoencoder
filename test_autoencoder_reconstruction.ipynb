{
 "cells": [
  {
   "cell_type": "code",
   "execution_count": 2,
   "metadata": {},
   "outputs": [],
   "source": [
    "import tensorflow as tf\n",
    "import numpy as np\n",
    "from tensorflow.keras import Model, Input, layers, losses, optimizers, datasets\n",
    "from matplotlib import pyplot as plt"
   ]
  },
  {
   "cell_type": "code",
   "execution_count": 3,
   "metadata": {},
   "outputs": [],
   "source": [
    "(X, Y), (Xtest, Ytest) = datasets.mnist.load_data()"
   ]
  },
  {
   "cell_type": "code",
   "execution_count": 4,
   "metadata": {},
   "outputs": [],
   "source": [
    "X = X.reshape((len(X), -1)).astype(np.float32) / 255.0\n",
    "Xtest = Xtest.reshape((len(Xtest), -1)).astype(np.float32) / 255.0"
   ]
  },
  {
   "cell_type": "code",
   "execution_count": 5,
   "metadata": {},
   "outputs": [],
   "source": [
    "# 784-392-196-98-196-392-784\n",
    "inputs = Input(shape=X.shape[1])\n",
    "\n",
    "en1 = layers.Dense(392, activation='relu')\n",
    "en2 = layers.Dense(196, activation='relu')\n",
    "\n",
    "en3 = layers.Dense(98, activation='relu')\n",
    "\n",
    "de1 = layers.Dense(196, activation='relu')\n",
    "de2 = layers.Dense(392, activation='relu')\n",
    "de3 = layers.Dense(784, activation='relu')\n",
    "\n",
    "outputs = de3(de2(de1(en3(en2(en1(inputs))))))\n",
    "\n",
    "model = Model(inputs, outputs)\n"
   ]
  },
  {
   "cell_type": "code",
   "execution_count": 6,
   "metadata": {},
   "outputs": [
    {
     "name": "stdout",
     "output_type": "stream",
     "text": [
      "Model: \"model\"\n",
      "_________________________________________________________________\n",
      " Layer (type)                Output Shape              Param #   \n",
      "=================================================================\n",
      " input_1 (InputLayer)        [(None, 784)]             0         \n",
      "                                                                 \n",
      " dense (Dense)               (None, 392)               307720    \n",
      "                                                                 \n",
      " dense_1 (Dense)             (None, 196)               77028     \n",
      "                                                                 \n",
      " dense_2 (Dense)             (None, 98)                19306     \n",
      "                                                                 \n",
      " dense_3 (Dense)             (None, 196)               19404     \n",
      "                                                                 \n",
      " dense_4 (Dense)             (None, 392)               77224     \n",
      "                                                                 \n",
      " dense_5 (Dense)             (None, 784)               308112    \n",
      "                                                                 \n",
      "=================================================================\n",
      "Total params: 808,794\n",
      "Trainable params: 808,794\n",
      "Non-trainable params: 0\n",
      "_________________________________________________________________\n"
     ]
    }
   ],
   "source": [
    "model.summary()"
   ]
  },
  {
   "cell_type": "code",
   "execution_count": 7,
   "metadata": {},
   "outputs": [],
   "source": [
    "model.compile(optimizer=optimizers.SGD(learning_rate=0.1),\n",
    "              loss=losses.MeanAbsoluteError())"
   ]
  },
  {
   "cell_type": "code",
   "execution_count": 33,
   "metadata": {},
   "outputs": [
    {
     "name": "stdout",
     "output_type": "stream",
     "text": [
      "Epoch 1/100\n",
      "1875/1875 [==============================] - 8s 4ms/step - loss: 0.0473\n",
      "Epoch 2/100\n",
      "1875/1875 [==============================] - 8s 4ms/step - loss: 0.0471\n",
      "Epoch 3/100\n",
      "1875/1875 [==============================] - 8s 4ms/step - loss: 0.0468\n",
      "Epoch 4/100\n",
      "1875/1875 [==============================] - 8s 4ms/step - loss: 0.0467\n",
      "Epoch 5/100\n",
      "1875/1875 [==============================] - 8s 4ms/step - loss: 0.0465\n",
      "Epoch 6/100\n",
      "1875/1875 [==============================] - 8s 4ms/step - loss: 0.0464\n",
      "Epoch 7/100\n",
      "1875/1875 [==============================] - 8s 4ms/step - loss: 0.0463\n",
      "Epoch 8/100\n",
      "1875/1875 [==============================] - 8s 4ms/step - loss: 0.0461\n",
      "Epoch 9/100\n",
      "1875/1875 [==============================] - 8s 4ms/step - loss: 0.0460\n",
      "Epoch 10/100\n",
      "1875/1875 [==============================] - 8s 4ms/step - loss: 0.0459\n",
      "Epoch 11/100\n",
      "1875/1875 [==============================] - 8s 4ms/step - loss: 0.0458\n",
      "Epoch 12/100\n",
      "1875/1875 [==============================] - 8s 4ms/step - loss: 0.0457\n",
      "Epoch 13/100\n",
      "1875/1875 [==============================] - 8s 4ms/step - loss: 0.0455\n",
      "Epoch 14/100\n",
      "1875/1875 [==============================] - 8s 4ms/step - loss: 0.0454\n",
      "Epoch 15/100\n",
      "1875/1875 [==============================] - 8s 4ms/step - loss: 0.0453\n",
      "Epoch 16/100\n",
      "1875/1875 [==============================] - 8s 4ms/step - loss: 0.0452\n",
      "Epoch 17/100\n",
      "1875/1875 [==============================] - 8s 4ms/step - loss: 0.0451\n",
      "Epoch 18/100\n",
      "1875/1875 [==============================] - 8s 4ms/step - loss: 0.0451\n",
      "Epoch 19/100\n",
      "1875/1875 [==============================] - 8s 4ms/step - loss: 0.0450\n",
      "Epoch 20/100\n",
      "1875/1875 [==============================] - 8s 4ms/step - loss: 0.0449\n",
      "Epoch 21/100\n",
      "1875/1875 [==============================] - 8s 4ms/step - loss: 0.0448\n",
      "Epoch 22/100\n",
      "1875/1875 [==============================] - 8s 4ms/step - loss: 0.0447\n",
      "Epoch 23/100\n",
      "1875/1875 [==============================] - 8s 4ms/step - loss: 0.0446\n",
      "Epoch 24/100\n",
      "1875/1875 [==============================] - 8s 4ms/step - loss: 0.0446\n",
      "Epoch 25/100\n",
      "1875/1875 [==============================] - 8s 4ms/step - loss: 0.0445\n",
      "Epoch 26/100\n",
      "1875/1875 [==============================] - 8s 4ms/step - loss: 0.0444\n",
      "Epoch 27/100\n",
      "1875/1875 [==============================] - 8s 4ms/step - loss: 0.0444\n",
      "Epoch 28/100\n",
      "1875/1875 [==============================] - 8s 4ms/step - loss: 0.0443\n",
      "Epoch 29/100\n",
      "1875/1875 [==============================] - 8s 4ms/step - loss: 0.0442\n",
      "Epoch 30/100\n",
      "1875/1875 [==============================] - 8s 4ms/step - loss: 0.0442\n",
      "Epoch 31/100\n",
      "1875/1875 [==============================] - 8s 4ms/step - loss: 0.0441\n",
      "Epoch 32/100\n",
      "1875/1875 [==============================] - 8s 4ms/step - loss: 0.0440\n",
      "Epoch 33/100\n",
      "1875/1875 [==============================] - 8s 4ms/step - loss: 0.0440\n",
      "Epoch 34/100\n",
      "1875/1875 [==============================] - 8s 4ms/step - loss: 0.0439\n",
      "Epoch 35/100\n",
      "1875/1875 [==============================] - 8s 4ms/step - loss: 0.0439\n",
      "Epoch 36/100\n",
      "1875/1875 [==============================] - 8s 4ms/step - loss: 0.0438\n",
      "Epoch 37/100\n",
      "1875/1875 [==============================] - 8s 4ms/step - loss: 0.0438\n",
      "Epoch 38/100\n",
      "1875/1875 [==============================] - 8s 4ms/step - loss: 0.0437\n",
      "Epoch 39/100\n",
      "1875/1875 [==============================] - 8s 4ms/step - loss: 0.0437\n",
      "Epoch 40/100\n",
      "1875/1875 [==============================] - 8s 4ms/step - loss: 0.0436\n",
      "Epoch 41/100\n",
      "1875/1875 [==============================] - 8s 4ms/step - loss: 0.0436\n",
      "Epoch 42/100\n",
      "1875/1875 [==============================] - 8s 4ms/step - loss: 0.0435\n",
      "Epoch 43/100\n",
      "1875/1875 [==============================] - 8s 4ms/step - loss: 0.0435\n",
      "Epoch 44/100\n",
      "1875/1875 [==============================] - 8s 4ms/step - loss: 0.0435\n",
      "Epoch 45/100\n",
      "1875/1875 [==============================] - 8s 4ms/step - loss: 0.0434\n",
      "Epoch 46/100\n",
      "1875/1875 [==============================] - 8s 4ms/step - loss: 0.0434\n",
      "Epoch 47/100\n",
      "1875/1875 [==============================] - 8s 4ms/step - loss: 0.0433\n",
      "Epoch 48/100\n",
      "1875/1875 [==============================] - 8s 4ms/step - loss: 0.0433\n",
      "Epoch 49/100\n",
      "1875/1875 [==============================] - 8s 4ms/step - loss: 0.0432\n",
      "Epoch 50/100\n",
      "1875/1875 [==============================] - 8s 4ms/step - loss: 0.0432\n",
      "Epoch 51/100\n",
      "1875/1875 [==============================] - 8s 4ms/step - loss: 0.0432\n",
      "Epoch 52/100\n",
      "1875/1875 [==============================] - 8s 4ms/step - loss: 0.0431\n",
      "Epoch 53/100\n",
      "1875/1875 [==============================] - 8s 4ms/step - loss: 0.0431\n",
      "Epoch 54/100\n",
      "1875/1875 [==============================] - 8s 4ms/step - loss: 0.0430\n",
      "Epoch 55/100\n",
      "1875/1875 [==============================] - 8s 4ms/step - loss: 0.0430\n",
      "Epoch 56/100\n",
      "1875/1875 [==============================] - 8s 4ms/step - loss: 0.0430\n",
      "Epoch 57/100\n",
      "1875/1875 [==============================] - 8s 4ms/step - loss: 0.0429\n",
      "Epoch 58/100\n",
      "1875/1875 [==============================] - 8s 4ms/step - loss: 0.0429\n",
      "Epoch 59/100\n",
      "1875/1875 [==============================] - 8s 4ms/step - loss: 0.0429\n",
      "Epoch 60/100\n",
      "1875/1875 [==============================] - 8s 4ms/step - loss: 0.0428\n",
      "Epoch 61/100\n",
      "1875/1875 [==============================] - 8s 4ms/step - loss: 0.0428\n",
      "Epoch 62/100\n",
      "1875/1875 [==============================] - 8s 4ms/step - loss: 0.0428\n",
      "Epoch 63/100\n",
      "1875/1875 [==============================] - 8s 4ms/step - loss: 0.0427\n",
      "Epoch 64/100\n",
      "1875/1875 [==============================] - 8s 4ms/step - loss: 0.0427\n",
      "Epoch 65/100\n",
      "1875/1875 [==============================] - 8s 4ms/step - loss: 0.0427\n",
      "Epoch 66/100\n",
      "1875/1875 [==============================] - 8s 4ms/step - loss: 0.0427\n",
      "Epoch 67/100\n",
      "1875/1875 [==============================] - 8s 4ms/step - loss: 0.0426\n",
      "Epoch 68/100\n",
      "1875/1875 [==============================] - 8s 4ms/step - loss: 0.0426\n",
      "Epoch 69/100\n",
      "1875/1875 [==============================] - 8s 4ms/step - loss: 0.0426\n",
      "Epoch 70/100\n",
      "1875/1875 [==============================] - 8s 4ms/step - loss: 0.0425\n",
      "Epoch 71/100\n",
      "1875/1875 [==============================] - 8s 4ms/step - loss: 0.0425\n",
      "Epoch 72/100\n",
      "1875/1875 [==============================] - 8s 4ms/step - loss: 0.0425\n",
      "Epoch 73/100\n",
      "1875/1875 [==============================] - 8s 4ms/step - loss: 0.0425\n",
      "Epoch 74/100\n",
      "1875/1875 [==============================] - 8s 4ms/step - loss: 0.0424\n",
      "Epoch 75/100\n",
      "1875/1875 [==============================] - 8s 4ms/step - loss: 0.0424\n",
      "Epoch 76/100\n",
      "1875/1875 [==============================] - 8s 4ms/step - loss: 0.0424\n",
      "Epoch 77/100\n",
      "1875/1875 [==============================] - 8s 4ms/step - loss: 0.0424\n",
      "Epoch 78/100\n",
      "1875/1875 [==============================] - 8s 4ms/step - loss: 0.0423\n",
      "Epoch 79/100\n",
      "1875/1875 [==============================] - 8s 4ms/step - loss: 0.0423\n",
      "Epoch 80/100\n",
      "1875/1875 [==============================] - 8s 4ms/step - loss: 0.0422\n",
      "Epoch 81/100\n",
      "1875/1875 [==============================] - 8s 4ms/step - loss: 0.0422\n",
      "Epoch 82/100\n",
      "1875/1875 [==============================] - 8s 4ms/step - loss: 0.0422\n",
      "Epoch 83/100\n",
      "1875/1875 [==============================] - 8s 4ms/step - loss: 0.0421\n",
      "Epoch 84/100\n",
      "1875/1875 [==============================] - 8s 4ms/step - loss: 0.0421\n",
      "Epoch 85/100\n",
      "1875/1875 [==============================] - 8s 4ms/step - loss: 0.0421\n",
      "Epoch 86/100\n",
      "1875/1875 [==============================] - 8s 4ms/step - loss: 0.0421\n",
      "Epoch 87/100\n",
      "1875/1875 [==============================] - 8s 4ms/step - loss: 0.0420\n",
      "Epoch 88/100\n",
      "1875/1875 [==============================] - 8s 4ms/step - loss: 0.0420\n",
      "Epoch 89/100\n",
      "1875/1875 [==============================] - 8s 4ms/step - loss: 0.0420\n",
      "Epoch 90/100\n",
      "1875/1875 [==============================] - 8s 4ms/step - loss: 0.0420\n",
      "Epoch 91/100\n",
      "1875/1875 [==============================] - 8s 4ms/step - loss: 0.0419\n",
      "Epoch 92/100\n",
      "1875/1875 [==============================] - 8s 4ms/step - loss: 0.0419\n",
      "Epoch 93/100\n",
      "1875/1875 [==============================] - 8s 4ms/step - loss: 0.0419\n",
      "Epoch 94/100\n",
      "1875/1875 [==============================] - 8s 4ms/step - loss: 0.0419\n",
      "Epoch 95/100\n",
      "1875/1875 [==============================] - 8s 4ms/step - loss: 0.0419\n",
      "Epoch 96/100\n",
      "1875/1875 [==============================] - 8s 4ms/step - loss: 0.0418\n",
      "Epoch 97/100\n",
      "1875/1875 [==============================] - 8s 4ms/step - loss: 0.0418\n",
      "Epoch 98/100\n",
      "1875/1875 [==============================] - 8s 4ms/step - loss: 0.0418\n",
      "Epoch 99/100\n",
      "1875/1875 [==============================] - 8s 4ms/step - loss: 0.0418\n",
      "Epoch 100/100\n",
      "1875/1875 [==============================] - 8s 4ms/step - loss: 0.0418\n"
     ]
    },
    {
     "data": {
      "text/plain": [
       "<keras.callbacks.History at 0x16624c52220>"
      ]
     },
     "execution_count": 33,
     "metadata": {},
     "output_type": "execute_result"
    }
   ],
   "source": [
    "model.fit(X, X, epochs=100)"
   ]
  },
  {
   "cell_type": "code",
   "execution_count": 34,
   "metadata": {},
   "outputs": [],
   "source": [
    "# สร้างตัวที่ผ่านการ encode(feature extraction) มาก่อนเพื่อจะนำไปใช้ทดลอง reconstruction\n",
    "Xtestencoded = en3(en2(en1(Xtest))).numpy()"
   ]
  },
  {
   "cell_type": "code",
   "execution_count": 35,
   "metadata": {},
   "outputs": [
    {
     "data": {
      "text/plain": [
       "(10000, 98)"
      ]
     },
     "execution_count": 35,
     "metadata": {},
     "output_type": "execute_result"
    }
   ],
   "source": [
    "Xtestencoded.shape"
   ]
  },
  {
   "cell_type": "code",
   "execution_count": 36,
   "metadata": {},
   "outputs": [
    {
     "data": {
      "text/plain": [
       "(10000, 784)"
      ]
     },
     "execution_count": 36,
     "metadata": {},
     "output_type": "execute_result"
    }
   ],
   "source": [
    "# ทำการ reconstruction ตัว encode เพื่อให้กลับไปเป็นมิติก่อนการทำ encode\n",
    "Recon = de3(de2(de1(Xtestencoded))).numpy()\n",
    "Recon.shape"
   ]
  },
  {
   "cell_type": "code",
   "execution_count": 37,
   "metadata": {},
   "outputs": [
    {
     "data": {
      "text/plain": [
       "(10000, 28, 28)"
      ]
     },
     "execution_count": 37,
     "metadata": {},
     "output_type": "execute_result"
    }
   ],
   "source": [
    "# แปลง vector matrix ลับมาเป็น pixel\n",
    "Recon = Recon.reshape(len(Recon), 28, 28)\n",
    "Recon.shape"
   ]
  },
  {
   "cell_type": "code",
   "execution_count": 38,
   "metadata": {},
   "outputs": [
    {
     "data": {
      "image/png": "[encoded data removed]",
      "text/plain": [
       "<Figure size 1800x1800 with 10 Axes>"
      ]
     },
     "metadata": {
      "needs_background": "light"
     },
     "output_type": "display_data"
    }
   ],
   "source": [
    "n = 10\n",
    "plt.figure(figsize=(25, 25))\n",
    "# สุ่มค่า integer ตั้งแต่ 0 จนถึง length ของ recon, สุ่มมา n ตัว\n",
    "for index, item in enumerate(np.random.randint(0, len(Recon), n)):\n",
    "    plt.subplot(1, n, index+1)\n",
    "    plt.imshow(Recon[item])\n",
    "    plt.title(Ytest[item])\n",
    "    plt.axis('off')\n",
    "plt.show()"
   ]
  },
  {
   "cell_type": "code",
   "execution_count": 39,
   "metadata": {},
   "outputs": [
    {
     "data": {
      "text/plain": [
       "(10, 98)"
      ]
     },
     "execution_count": 39,
     "metadata": {},
     "output_type": "execute_result"
    }
   ],
   "source": [
    "# ถ้าไม่เอาตัว encode มาใส่ แต่จะใช้ตัว matrix random ที่มีความยาวเท่ากับ encode\n",
    "# random แบบ uniform random มี n ตัว\n",
    "n = 10\n",
    "random_input = np.random.rand(n, Xtestencoded.shape[1]).astype(np.float32)\n",
    "random_input.shape"
   ]
  },
  {
   "cell_type": "code",
   "execution_count": 40,
   "metadata": {},
   "outputs": [
    {
     "data": {
      "text/plain": [
       "(10, 28, 28)"
      ]
     },
     "execution_count": 40,
     "metadata": {},
     "output_type": "execute_result"
    }
   ],
   "source": [
    "# decoder ตัวที่ทำการ random ขึ้นมา\n",
    "random_decoded = de3(de2(de1(random_input))).numpy().reshape((n, 28, 28))\n",
    "random_decoded.shape"
   ]
  },
  {
   "cell_type": "code",
   "execution_count": 41,
   "metadata": {},
   "outputs": [
    {
     "data": {
      "image/png": "[encoded data removed]",
      "text/plain": [
       "<Figure size 1800x1800 with 10 Axes>"
      ]
     },
     "metadata": {
      "needs_background": "light"
     },
     "output_type": "display_data"
    }
   ],
   "source": [
    "plt.figure(figsize=(25, 25))\n",
    "for i in range(n):\n",
    "    plt.subplot(1, n, i+1)\n",
    "    plt.imshow(random_decoded[i])\n",
    "    plt.axis('off')\n",
    "plt.show()"
   ]
  },
  {
   "cell_type": "code",
   "execution_count": 42,
   "metadata": {},
   "outputs": [
    {
     "data": {
      "image/png": "[encoded data removed]",
      "text/plain": [
       "<Figure size 2160x2160 with 10 Axes>"
      ]
     },
     "metadata": {
      "needs_background": "light"
     },
     "output_type": "display_data"
    }
   ],
   "source": [
    "# ถ้าผสมเลขแบบ genetic cross เช่น 4 ผสมกับ 7 จะ reconstruction ได้ผลลัพธ์อย่างไร\n",
    "\n",
    "p = [2, 5]\n",
    "p1 = np.where(Ytest==p[0])[0] # หาว่าตัวไหนเป็น 2\n",
    "p2 = np.where(Ytest==p[1])[0] # หาว่าตัวไหนเป็น 5\n",
    "n = 10 # ใช้ 10 ตัว\n",
    "plt.figure(figsize=(30, 30))\n",
    "for index in range(n):\n",
    "    temp = Xtestencoded[[np.random.choice(p1), np.random.choice(p2)]] # ดึงค่า encode แบบ random มาคู่กัน\n",
    "    geneticCross = np.hstack((temp[0, :temp.shape[1] // 2], temp[1, temp.shape[1] // 2:])).reshape(1, temp.shape[1]) # เอามาต่อกัน โดย 49 ตัวแรกมาจาก p1 และ 49 ตัวหลังมาจาก p2\n",
    "    Recon = de3(de2(de1(geneticCross))).numpy()\n",
    "    Recon = Recon.reshape(len(Recon), 28, 28)[0] # ดึงตัวแรกออกมาเพื่อเอาไป plot เพราะยังเป็น array อยู่\n",
    "    plt.subplot(1, n, index+1)\n",
    "    plt.imshow(Recon)\n",
    "    plt.title(str(p[0])+ '+' +str(p[1]))\n",
    "    plt.axis('off')\n",
    "plt.show()"
   ]
  },
  {
   "cell_type": "code",
   "execution_count": null,
   "metadata": {},
   "outputs": [],
   "source": []
  }
 ],
 "metadata": {
  "kernelspec": {
   "display_name": "Python 3.9.12 ('gpu-gan')",
   "language": "python",
   "name": "python3"
  },
  "language_info": {
   "codemirror_mode": {
    "name": "ipython",
    "version": 3
   },
   "file_extension": ".py",
   "mimetype": "text/x-python",
   "name": "python",
   "nbconvert_exporter": "python",
   "pygments_lexer": "ipython3",
   "version": "3.9.12"
  },
  "orig_nbformat": 4,
  "vscode": {
   "interpreter": {
    "hash": "b06aa430c4fb633b1dd0a1a893f1bc87d8421f34b3777c6b5eb422d863f7be59"
   }
  }
 },
 "nbformat": 4,
 "nbformat_minor": 2
}
